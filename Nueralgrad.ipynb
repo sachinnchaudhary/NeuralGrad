{
 "cells": [
  {
   "cell_type": "code",
   "metadata": {},
   "source": [
    "import math\n",
    "import matplotlib.pyplot as plt\n",
    "from neuralgrad import Value, MLP, RMSprop, MSE"
   ],
   "execution_count": null,
   "outputs": []
  },
  {
   "cell_type": "code",
   "metadata": {},
   "source": [
    "xs = [Value(i * 0.1) for i in range(-20, 21)]\n",
    "ys = [Value(math.sin(x.data)) for x in xs]"
   ],
   "execution_count": null,
   "outputs": []
  },
  {
   "cell_type": "code",
   "metadata": {},
   "source": [
    "model = MLP(1, [10, 1])\n",
    "optimizer = RMSprop(model.parameters(), lr=0.01)"
   ],
   "execution_count": null,
   "outputs": []
  },
  {
   "cell_type": "code",
   "metadata": {},
   "source": [
    "with_preds = [model([x]).data for x in xs]\n",
    "plt.scatter([x.data for x in xs], [y.data for y in ys], label=\"True sin(x)\")\n",
    "plt.plot([x.data for x in xs], with_preds, label=\"Init predictions\", color=\"red\")\n",
    "plt.legend(); plt.show()"
   ],
   "execution_count": null,
   "outputs": []
  },
  {
   "cell_type": "code",
   "metadata": {},
   "source": [
    "for epoch in range(200):\n",
    "    optimizer.zero_grad()\n",
    "    preds = [model([x]) for x in xs]\n",
    "    loss = MSE(preds, ys).compute_loss()\n",
    "    loss.backward()\n",
    "    optimizer.step()\n",
    "    if epoch % 20 == 0:\n",
    "        print(f\"Epoch {epoch}, Loss = {loss.data:.4f}\")"
   ],
   "execution_count": null,
   "outputs": []
  },
  {
   "cell_type": "code",
   "metadata": {},
   "source": [
    "preds = [model([x]).data for x in xs]\n",
    "plt.scatter([x.data for x in xs], [y.data for y in ys], label=\"True sin(x)\")\n",
    "plt.plot([x.data for x in xs], preds, color=\"red\", label=\"Model predictions\")\n",
    "plt.legend(); plt.show()"
   ],
   "execution_count": null,
   "outputs": []
  }
 ],
 "metadata": {
  "kernelspec": {
   "display_name": "Python 3",
   "language": "python",
   "name": "python3"
  },
  "language_info": {
   "name": "python",
   "version": "3.12"
  }
 },
 "nbformat": 4,
 "nbformat_minor": 5
}
