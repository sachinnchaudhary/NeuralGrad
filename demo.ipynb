import math
import matplotlib.pyplot as plt
from neuralgrad import Value, MLP, RMSprop, MSE
